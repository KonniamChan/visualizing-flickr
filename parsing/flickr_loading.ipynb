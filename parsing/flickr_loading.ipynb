{
 "cells": [
  {
   "cell_type": "markdown",
   "metadata": {},
   "source": [
    "## Flickr Project"
   ]
  },
  {
   "cell_type": "markdown",
   "metadata": {},
   "source": [
    "## Geographic Filtering"
   ]
  },
  {
   "cell_type": "code",
   "execution_count": 3,
   "metadata": {
    "collapsed": false
   },
   "outputs": [],
   "source": [
    "# Cities to filter out\n",
    "# {City: [min latitude, min longitude, max latitude, max longitude]}\n",
    "cities = {\"San Francisco\": [37.699342, -122.561829, 37.866062, -122.280451],\n",
    "         \"New York\": [40.667300, -74.092467, 40.823483, -73.880939],\n",
    "         \"Paris\": [48.788798, 2.189496, 48.936948, 2.473834],\n",
    "         \"Hong Kong\": [22.175548, 114.050751, 22.379670, 114.280063]}"
   ]
  },
  {
   "cell_type": "code",
   "execution_count": 4,
   "metadata": {
    "collapsed": false
   },
   "outputs": [
    {
     "data": {
      "text/plain": [
       "'\\n0. identifier\\n1. User_NSID,\\n2. User_nickname,\\n3. Date_taken,\\n4. Date_uploaded,\\n5. Capture_device,\\n6. Title,\\n7. Description,\\n8. User_tags,\\n9. Machine_tags,\\n10. Longitude numeric(13,10),\\n11. Latitude numeric(13,10),\\n12. Accuracy,\\n13. page_URL,\\n14. download_URL,\\n15. License_name,\\n16. License_URL,\\n17. server_identifier,\\n18. farm_identifier,\\n19. secret,\\n20. secret_original,\\n21. extension,\\n22. Photos_video_marker\\n'"
      ]
     },
     "execution_count": 4,
     "metadata": {},
     "output_type": "execute_result"
    }
   ],
   "source": [
    "\"\"\"\n",
    "0. identifier\n",
    "1. User_NSID,\n",
    "2. User_nickname,\n",
    "3. Date_taken,\n",
    "4. Date_uploaded,\n",
    "5. Capture_device,\n",
    "6. Title,\n",
    "7. Description,\n",
    "8. User_tags,\n",
    "9. Machine_tags,\n",
    "10. Longitude,\n",
    "11. Latitude,\n",
    "12. Accuracy,\n",
    "13. page_URL,\n",
    "14. download_URL,\n",
    "15. License_name,\n",
    "16. License_URL,\n",
    "17. server_identifier,\n",
    "18. farm_identifier,\n",
    "19. secret,\n",
    "20. secret_original,\n",
    "21. extension,\n",
    "22. Photos_video_marker\n",
    "\"\"\""
   ]
  },
  {
   "cell_type": "code",
   "execution_count": 14,
   "metadata": {
    "collapsed": false
   },
   "outputs": [],
   "source": [
    "# Pick five camera makers\n",
    "camera_makers = [\"CANON\", \"NIKON\", \"APPLE\", \"SONY\", \"PANASONIC\"]\n",
    "\n",
    "def geo_filter(city, flickr_dir, in_file, out_file):\n",
    "    flickr_file = open(flickr_dir + \"/\" + in_file, \"r\")\n",
    "    flickr_results = open(flickr_dir + \"/\" + out_file, \"a\")\n",
    "    \n",
    "    # Write header\n",
    "    flickr_results.write(\"identifier,nsid,user,year,camera,title,longitude,latitude,url,license\\n\")\n",
    "    \n",
    "    for line in flickr_file:\n",
    "        array = line.strip().split(\"\\t\")\n",
    "        \n",
    "        # User\n",
    "        user = array[2].replace(\"+\", \" \")\n",
    "        \n",
    "        # Year\n",
    "        year = array[3][:4]\n",
    "        \n",
    "        # Device\n",
    "        camera_array = array[5]\n",
    "        camera_index = camera_array.find(\"+\")\n",
    "        camera = camera_array[:camera_index].upper() if camera_index != -1 else \"NA\"\n",
    "        \n",
    "        # Title\n",
    "        title = array[6].replace(\"+\", \" \")\n",
    "            \n",
    "        # Longitude and latitude\n",
    "        longitude = float(array[10]) if array[10] else 9999\n",
    "        latitude = float(array[11]) if array[11] else 9999\n",
    "        \n",
    "        # License\n",
    "        lic_url = array[16]\n",
    "        lic_url = lic_url[lic_url.find(\"by\"):].split(\"/\")        \n",
    "        license = lic_url[0]\n",
    "        \n",
    "        # Filter and write\n",
    "        if (latitude > cities[city][0] and longitude > cities[city][1] and \n",
    "            latitude < cities[city][2] and longitude < cities[city][3] and array[22]==\"0\" and\n",
    "           camera in camera_makers):\n",
    "            flickr_results.write(array[0] + \",\" + array[1] + \",\" + user + \",\" + year + \",\" + \n",
    "                                 camera + \",\" + title + \",\" + array[10] + \",\" + array [11] + \",\" + array[14] + \n",
    "                                 \",\" + license + \"\\n\")\n",
    "\n",
    "geo_filter(\"Hong Kong\", \"/Users/InfernoIX\", \"flickr_sample.txt\", \"hk.csv\")"
   ]
  }
 ],
 "metadata": {
  "kernelspec": {
   "display_name": "Python 2",
   "language": "python",
   "name": "python2"
  },
  "language_info": {
   "codemirror_mode": {
    "name": "ipython",
    "version": 2
   },
   "file_extension": ".py",
   "mimetype": "text/x-python",
   "name": "python",
   "nbconvert_exporter": "python",
   "pygments_lexer": "ipython2",
   "version": "2.7.10"
  }
 },
 "nbformat": 4,
 "nbformat_minor": 0
}
